{
  "nbformat": 4,
  "nbformat_minor": 0,
  "metadata": {
    "colab": {
      "provenance": [],
      "authorship_tag": "ABX9TyMVIhGEPaPx3aEtX3KUszGx",
      "include_colab_link": true
    },
    "kernelspec": {
      "name": "python3",
      "display_name": "Python 3"
    },
    "language_info": {
      "name": "python"
    }
  },
  "cells": [
    {
      "cell_type": "markdown",
      "metadata": {
        "id": "view-in-github",
        "colab_type": "text"
      },
      "source": [
        "<a href=\"https://colab.research.google.com/github/satani99/Grokking_deep_learning/blob/main/Decorators.ipynb\" target=\"_parent\"><img src=\"https://colab.research.google.com/assets/colab-badge.svg\" alt=\"Open In Colab\"/></a>"
      ]
    },
    {
      "cell_type": "code",
      "execution_count": 1,
      "metadata": {
        "id": "VEcDibx8S--I"
      },
      "outputs": [],
      "source": [
        "# @decorate\n",
        "# def target():\n",
        "#   print('running target()')"
      ]
    },
    {
      "cell_type": "markdown",
      "source": [
        "##Above and below code are same"
      ],
      "metadata": {
        "id": "-gXbkgTNygZv"
      }
    },
    {
      "cell_type": "code",
      "source": [
        "# def target():\n",
        "#   print('running target()')\n",
        "\n",
        "# target = decorate(target)"
      ],
      "metadata": {
        "id": "AdrmfBCtxCG6"
      },
      "execution_count": 3,
      "outputs": []
    },
    {
      "cell_type": "code",
      "source": [
        "def deco(func):\n",
        "  def inner():\n",
        "    print('running inner()')\n",
        "  return inner\n",
        "\n",
        "@deco\n",
        "def target():\n",
        "  print('running target()')"
      ],
      "metadata": {
        "id": "vj6jWIQXxLoZ"
      },
      "execution_count": 13,
      "outputs": []
    },
    {
      "cell_type": "code",
      "source": [
        "target()"
      ],
      "metadata": {
        "colab": {
          "base_uri": "https://localhost:8080/"
        },
        "id": "F339Jt_OyADB",
        "outputId": "19404176-94b5-4e7e-d8d8-8baa1a1b1ede"
      },
      "execution_count": 14,
      "outputs": [
        {
          "output_type": "stream",
          "name": "stdout",
          "text": [
            "running inner()\n"
          ]
        }
      ]
    },
    {
      "cell_type": "code",
      "source": [
        "target"
      ],
      "metadata": {
        "colab": {
          "base_uri": "https://localhost:8080/"
        },
        "id": "Z3prrMhYycSw",
        "outputId": "6e30763b-fba2-45ed-bc74-d7b180e9c53c"
      },
      "execution_count": 15,
      "outputs": [
        {
          "output_type": "execute_result",
          "data": {
            "text/plain": [
              "<function __main__.deco.<locals>.inner()>"
            ]
          },
          "metadata": {},
          "execution_count": 15
        }
      ]
    },
    {
      "cell_type": "code",
      "source": [
        "registry = []\n",
        "\n",
        "def register(func):\n",
        "  print('running register(%s)' % func)\n",
        "  registry.append(func)\n",
        "  return func\n",
        "\n",
        "@register\n",
        "def f1():\n",
        "  print('running f1()')\n",
        "\n",
        "@register\n",
        "def f2():\n",
        "  print('runnning f2()')\n",
        "\n",
        "def f3():\n",
        "  print('running f3()')\n",
        "\n",
        "def main():\n",
        "  print('running main()')\n",
        "  print('registry ->', registry)\n",
        "  f1()\n",
        "  f2()\n",
        "  f3()\n",
        "\n",
        "if __name__ == '__main__':\n",
        "  main()"
      ],
      "metadata": {
        "colab": {
          "base_uri": "https://localhost:8080/"
        },
        "id": "ffPGQZQSyeGG",
        "outputId": "3578f653-276b-4a40-b5f1-b94312a48f2c"
      },
      "execution_count": 16,
      "outputs": [
        {
          "output_type": "stream",
          "name": "stdout",
          "text": [
            "running register(<function f1 at 0x7a7e7847f370>)\n",
            "running register(<function f2 at 0x7a7e7847d360>)\n",
            "running main()\n",
            "registry -> [<function f1 at 0x7a7e7847f370>, <function f2 at 0x7a7e7847d360>]\n",
            "running f1()\n",
            "runnning f2()\n",
            "running f3()\n"
          ]
        }
      ]
    },
    {
      "cell_type": "code",
      "source": [
        "import registration"
      ],
      "metadata": {
        "colab": {
          "base_uri": "https://localhost:8080/"
        },
        "id": "BcxtVn_12gSn",
        "outputId": "77cdd371-9c69-4627-9cb3-c93d3034d970"
      },
      "execution_count": 19,
      "outputs": [
        {
          "output_type": "stream",
          "name": "stdout",
          "text": [
            "running register(<function f1 at 0x7a7e8e078a60>)\n",
            "running register(<function f2 at 0x7a7e7847e7a0>)\n"
          ]
        }
      ]
    },
    {
      "cell_type": "code",
      "source": [
        "registration.registry"
      ],
      "metadata": {
        "colab": {
          "base_uri": "https://localhost:8080/"
        },
        "id": "4oduY6FO204x",
        "outputId": "8cf72c84-91a1-4ccb-8bc1-f0e193aa5a79"
      },
      "execution_count": 20,
      "outputs": [
        {
          "output_type": "execute_result",
          "data": {
            "text/plain": [
              "[<function registration.f1()>, <function registration.f2()>]"
            ]
          },
          "metadata": {},
          "execution_count": 20
        }
      ]
    },
    {
      "cell_type": "code",
      "source": [
        "registration.main()"
      ],
      "metadata": {
        "colab": {
          "base_uri": "https://localhost:8080/"
        },
        "id": "xtLMLlcY4bQ1",
        "outputId": "5bd78788-d935-4ba1-927e-5562afdb9078"
      },
      "execution_count": 22,
      "outputs": [
        {
          "output_type": "stream",
          "name": "stdout",
          "text": [
            "running main()\n",
            "registry -> [<function f1 at 0x7a7e8e078a60>, <function f2 at 0x7a7e7847e7a0>]\n",
            "running f1()\n",
            "runnning f2()\n",
            "running f3()\n"
          ]
        }
      ]
    },
    {
      "cell_type": "code",
      "source": [],
      "metadata": {
        "id": "38N70F2z4lXe"
      },
      "execution_count": null,
      "outputs": []
    }
  ]
}