{
  "nbformat": 4,
  "nbformat_minor": 0,
  "metadata": {
    "colab": {
      "name": "cnn_in_numpy",
      "provenance": [],
      "authorship_tag": "ABX9TyPzbquJLCbr8a6BoeHq6PP3",
      "include_colab_link": true
    },
    "kernelspec": {
      "name": "python3",
      "display_name": "Python 3"
    },
    "language_info": {
      "name": "python"
    }
  },
  "cells": [
    {
      "cell_type": "markdown",
      "metadata": {
        "id": "view-in-github",
        "colab_type": "text"
      },
      "source": [
        "<a href=\"https://colab.research.google.com/github/satani99/Grokking_deep_learning/blob/main/cnn_in_numpy.ipynb\" target=\"_parent\"><img src=\"https://colab.research.google.com/assets/colab-badge.svg\" alt=\"Open In Colab\"/></a>"
      ]
    },
    {
      "cell_type": "code",
      "execution_count": 1,
      "metadata": {
        "id": "rQNGCKoxbcq4"
      },
      "outputs": [],
      "source": [
        "def get_image_section(layer, row_from, row_to, col_from, col_to):\n",
        "  sub_section = layer[:, row_from:row_to, col_from:col_to]\n",
        "  return subs_section.reshape(-1, 1, row_to-row_from, col_to-col_from)"
      ]
    },
    {
      "cell_type": "code",
      "source": [
        "import numpy as np, sys\n",
        "np.random.seed(42)\n",
        "\n",
        "from keras.datasets import mnist\n",
        "\n",
        "(x_train, y_train), (x_test, y_test) = mnist.load_data()\n",
        "\n",
        "images, labels = (x_train[0:1000].reshape(1000, 28*28) / 255, y_train[0:1000])\n"
      ],
      "metadata": {
        "colab": {
          "base_uri": "https://localhost:8080/"
        },
        "id": "i1-iFqW3cAbN",
        "outputId": "665a3761-da0f-4b10-8d13-cb5df48f5210"
      },
      "execution_count": 2,
      "outputs": [
        {
          "output_type": "stream",
          "name": "stdout",
          "text": [
            "Downloading data from https://storage.googleapis.com/tensorflow/tf-keras-datasets/mnist.npz\n",
            "11493376/11490434 [==============================] - 0s 0us/step\n",
            "11501568/11490434 [==============================] - 0s 0us/step\n"
          ]
        }
      ]
    },
    {
      "cell_type": "code",
      "source": [
        "one_hot_labels = np.zeros((len(labels), 10))\n",
        "for i, l in enumerate(labels):\n",
        "  one_hot_labels[i][l] = 1\n",
        "labels = one_hot_labels"
      ],
      "metadata": {
        "id": "oqzb_qijdFOQ"
      },
      "execution_count": 3,
      "outputs": []
    },
    {
      "cell_type": "code",
      "source": [
        "test_images = x_test.reshape(len(x_test), 28*28) / 255\n",
        "test_labels = np.zeros((len(y_test), 10))\n",
        "for i, l in enumerate(y_test):\n",
        "  test_labels[i][l] = 1\n"
      ],
      "metadata": {
        "id": "Q7Bob15tdZjk"
      },
      "execution_count": 4,
      "outputs": []
    },
    {
      "cell_type": "code",
      "source": [
        "def tanh(x):\n",
        "  return np.tanh(x)"
      ],
      "metadata": {
        "id": "U5mdF4gbeHqA"
      },
      "execution_count": 5,
      "outputs": []
    },
    {
      "cell_type": "code",
      "source": [
        "def tanh2deriv(output):\n",
        "  return 1 - (output**2)"
      ],
      "metadata": {
        "id": "Z9AbChdpeL49"
      },
      "execution_count": 6,
      "outputs": []
    },
    {
      "cell_type": "code",
      "source": [
        "def softmax(x):\n",
        "  temp = np.exp(x)\n",
        "  return tem / np.sum(temp, axis=1, keepdims=True)"
      ],
      "metadata": {
        "id": "GEtUCYFreUru"
      },
      "execution_count": 7,
      "outputs": []
    },
    {
      "cell_type": "code",
      "source": [
        "alpha, iterations = (2, 300)\n",
        "pixels_per_image, num_labels = (784, 10)\n",
        "but_rows = 28\n",
        "inpuatch_size = 128\n",
        "\n",
        "inpt_cols = 28\n",
        "\n",
        "kernel_rows = 3\n",
        "kernel_cols = 3\n",
        "num_kernels = 16\n"
      ],
      "metadata": {
        "id": "UhFM0qOGegQ5"
      },
      "execution_count": 8,
      "outputs": []
    },
    {
      "cell_type": "code",
      "source": [
        "hidden_size = ((input_rows - kernel_rows) *\n",
        "               (input_cols - kernel_cols)) * num_kernels\n",
        "\n",
        "kernels = 0.02 * np.random.random((kernel_rows*kernel_cols, num_kernels)) - 0.01\n",
        "\n",
        "weights_1_2 = 0.2*np.random.random((hidden_size, num_labels)) - 0.1"
      ],
      "metadata": {
        "id": "a6_0R-Yge975"
      },
      "execution_count": 9,
      "outputs": []
    },
    {
      "cell_type": "code",
      "source": [
        "for j in range(iterations):\n",
        "  correct_cnt = 0\n",
        "  for i in range(int(len(images) / batch_size)):\n",
        "    batch_start, batch_end = ((i * batch_size), ((i+1)*batch_size))\n",
        "    layer_0 = images[batch_start:batch_end]\n",
        "    layer_0 = layer_0.reshape(layer_0.shape[0], 28, 28)\n",
        "    layer_0.shape\n",
        "\n",
        "    sects = list()\n",
        "    for row_start in range(layer_0.shape[1]-kernel_rows):\n",
        "      for col_start in range(layer_0.shape[2] - kernel_cols):\n",
        "        sect = get_image_section(layer_0,\n",
        "                                 row_start,\n",
        "                                 row_start+kernel_rows,\n",
        "                                 col_start,\n",
        "                                 col_start+kernel_cols)\n",
        "        sects.append(sect)\n",
        "\n",
        "      "
      ],
      "metadata": {
        "id": "CT9JxMdKflHX"
      },
      "execution_count": null,
      "outputs": []
    }
  ]
}