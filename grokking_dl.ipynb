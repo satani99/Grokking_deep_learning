{
  "nbformat": 4,
  "nbformat_minor": 0,
  "metadata": {
    "colab": {
      "name": "grokking_dl",
      "provenance": [],
      "authorship_tag": "ABX9TyMhARDsYezwWxTwrbMwADMt",
      "include_colab_link": true
    },
    "kernelspec": {
      "name": "python3",
      "display_name": "Python 3"
    },
    "language_info": {
      "name": "python"
    },
    "accelerator": "GPU"
  },
  "cells": [
    {
      "cell_type": "markdown",
      "metadata": {
        "id": "view-in-github",
        "colab_type": "text"
      },
      "source": [
        "<a href=\"https://colab.research.google.com/github/satani99/Grokking_deep_learning/blob/main/grokking_dl.ipynb\" target=\"_parent\"><img src=\"https://colab.research.google.com/assets/colab-badge.svg\" alt=\"Open In Colab\"/></a>"
      ]
    },
    {
      "cell_type": "code",
      "execution_count": 1,
      "metadata": {
        "id": "SxYTvrk2dA8Q"
      },
      "outputs": [],
      "source": [
        "import numpy as np, sys"
      ]
    },
    {
      "cell_type": "code",
      "source": [
        "np.random.seed(42)"
      ],
      "metadata": {
        "id": "PXhfaYxBd9Ao"
      },
      "execution_count": 2,
      "outputs": []
    },
    {
      "cell_type": "code",
      "source": [
        "from keras.datasets import mnist\n",
        "(x_train, y_train), (x_test, y_test) = mnist.load_data()"
      ],
      "metadata": {
        "colab": {
          "base_uri": "https://localhost:8080/"
        },
        "id": "zitazHp6eCGG",
        "outputId": "6610227d-d9e6-472e-a4dd-a889e800f050"
      },
      "execution_count": 3,
      "outputs": [
        {
          "output_type": "stream",
          "name": "stdout",
          "text": [
            "Downloading data from https://storage.googleapis.com/tensorflow/tf-keras-datasets/mnist.npz\n",
            "11493376/11490434 [==============================] - 0s 0us/step\n",
            "11501568/11490434 [==============================] - 0s 0us/step\n"
          ]
        }
      ]
    },
    {
      "cell_type": "code",
      "source": [
        "images, labels = (x_train[0:1000].reshape(1000, 28*28) / 255, y_train[0:1000])"
      ],
      "metadata": {
        "id": "w4VwARDaeMrR"
      },
      "execution_count": 4,
      "outputs": []
    },
    {
      "cell_type": "code",
      "source": [
        "one_hot_labels = np.zeros((len(labels), 10))\n",
        "for i,l in enumerate(labels):\n",
        "  one_hot_labels[i][l] = 1\n",
        "labels = one_hot_labels"
      ],
      "metadata": {
        "id": "mvuHWXKcebxN"
      },
      "execution_count": 5,
      "outputs": []
    },
    {
      "cell_type": "code",
      "source": [
        "test_images = x_test.reshape(len(x_test), 28*28) / 255\n",
        "test_labels = np.zeros((len(y_test), 10))\n",
        "for i,l in enumerate(y_test):\n",
        "  test_labels[i][l] = 1"
      ],
      "metadata": {
        "id": "p524MJoWetRD"
      },
      "execution_count": 7,
      "outputs": []
    },
    {
      "cell_type": "code",
      "source": [
        "def tanh(x):\n",
        "  return np.tanh(x)"
      ],
      "metadata": {
        "id": "luN6NuwXe-Gi"
      },
      "execution_count": 8,
      "outputs": []
    },
    {
      "cell_type": "code",
      "source": [
        "def tanh2deriv(output):\n",
        "  return 1 - (output**2)"
      ],
      "metadata": {
        "id": "5ChZ-wI8fKFn"
      },
      "execution_count": 9,
      "outputs": []
    },
    {
      "cell_type": "code",
      "source": [
        "def softmax(x):\n",
        "  temp = np.exp(x)\n",
        "  return temp / np.sum(temp, axis=1, keepdims=True)"
      ],
      "metadata": {
        "id": "Ro2x7s9ofQAZ"
      },
      "execution_count": 10,
      "outputs": []
    },
    {
      "cell_type": "code",
      "source": [
        "alpha, iterations, hidden_size = (2, 300, 100)\n",
        "pixels_per_image, num_labels = (784, 10)\n",
        "batch_size = 100"
      ],
      "metadata": {
        "id": "9mR70Du0f790"
      },
      "execution_count": 12,
      "outputs": []
    },
    {
      "cell_type": "code",
      "source": [
        "weights_0_1 = 0.02*np.random.random((pixels_per_image, hidden_size)) - 0.01\n",
        "weights_1_2 = 0.2*np.random.random((hidden_size, num_labels)) - 0.1"
      ],
      "metadata": {
        "id": "rYyOmb5dgKZE"
      },
      "execution_count": 13,
      "outputs": []
    },
    {
      "cell_type": "code",
      "source": [
        "for j in range(iterations):\n",
        "  correct_cnt = 0\n",
        "  for i in range(int(len(images) / batch_size)):\n",
        "    batch_start, batch_end = ((i * batch_size), ((i+1)*batch_size))\n",
        "    layer_0 = images[batch_start:batch_end]\n",
        "    layer_1 = tanh(np.dot(layer_0, weights_0_1))\n",
        "    dropout_mask = np.random.randint(2, size=layer_1.shape)\n",
        "    layer_1 *= dropout_mask * 2\n",
        "    layer_2 = softmax(np.dot(layer_1, weights_1_2))\n",
        "\n",
        "    for k in range(batch_size):\n",
        "      correct_cnt += int(np.argmax(layer_2[k:k+1]) == np.argmax(labels[batch_start+k:batch_start+k+1]))\n",
        "    \n",
        "    layer_2_delta = (labels[batch_start:batch_end]-layer_2) / (batch_size * layer_2.shape[0])\n",
        "    layer_1_delta = layer_2_delta.dot(weights_1_2.T) * tanh2deriv(layer_1)\n",
        "    layer_1_delta *= dropout_mask\n",
        "\n",
        "    weights_1_2 += alpha * layer_1.T.dot(layer_2_delta)\n",
        "    weights_0_1 += alpha * layer_0.T.dot(layer_1_delta)\n",
        "\n",
        "  test_correct_cnt = 0\n",
        "\n",
        "  for i in range(len(test_images)):\n",
        "\n",
        "    layer_0 = test_images[i:i+1]\n",
        "    layer_1 = tanh(np.dot(layer_0, weights_0_1))\n",
        "    layer_2 = np.dot(layer_1, weights_1_2)\n",
        "    test_correct_cnt += int(np.argmax(layer_2) == np.argmax(test_labels[i:i+1]))\n",
        "\n",
        "  if (j % 10 == 0):\n",
        "    sys.stdout.write(\"\\n\" + \"I:\" + str(j) + \" Test-Acc:\"+str(test_correct_cnt/float(len(test_images))) + \" Train-Acc:\" + str(correct_cnt/float(len(images))))\n",
        "\n"
      ],
      "metadata": {
        "colab": {
          "base_uri": "https://localhost:8080/"
        },
        "id": "MCp5YDFmg3eR",
        "outputId": "ab3b3296-5267-41e7-ae66-0875cb562562"
      },
      "execution_count": 16,
      "outputs": [
        {
          "output_type": "stream",
          "name": "stdout",
          "text": [
            "\n",
            "I:0 Test-Acc:0.4905 Train-Acc:0.366\n",
            "I:10 Test-Acc:0.6749 Train-Acc:0.698\n",
            "I:20 Test-Acc:0.6942 Train-Acc:0.723\n",
            "I:30 Test-Acc:0.7312 Train-Acc:0.746\n",
            "I:40 Test-Acc:0.7661 Train-Acc:0.794\n",
            "I:50 Test-Acc:0.7951 Train-Acc:0.828\n",
            "I:60 Test-Acc:0.8112 Train-Acc:0.85\n",
            "I:70 Test-Acc:0.8217 Train-Acc:0.856\n",
            "I:80 Test-Acc:0.8285 Train-Acc:0.875\n",
            "I:90 Test-Acc:0.8341 Train-Acc:0.877\n",
            "I:100 Test-Acc:0.8408 Train-Acc:0.886\n",
            "I:110 Test-Acc:0.8444 Train-Acc:0.9\n",
            "I:120 Test-Acc:0.8465 Train-Acc:0.902\n",
            "I:130 Test-Acc:0.8489 Train-Acc:0.897\n",
            "I:140 Test-Acc:0.8525 Train-Acc:0.911\n",
            "I:150 Test-Acc:0.8532 Train-Acc:0.903\n",
            "I:160 Test-Acc:0.8561 Train-Acc:0.921\n",
            "I:170 Test-Acc:0.859 Train-Acc:0.915\n",
            "I:180 Test-Acc:0.8599 Train-Acc:0.92\n",
            "I:190 Test-Acc:0.8609 Train-Acc:0.93\n",
            "I:200 Test-Acc:0.8633 Train-Acc:0.932\n",
            "I:210 Test-Acc:0.8635 Train-Acc:0.926\n",
            "I:220 Test-Acc:0.8647 Train-Acc:0.931\n",
            "I:230 Test-Acc:0.8645 Train-Acc:0.948\n",
            "I:240 Test-Acc:0.8666 Train-Acc:0.938\n",
            "I:250 Test-Acc:0.8666 Train-Acc:0.94\n",
            "I:260 Test-Acc:0.8679 Train-Acc:0.939\n",
            "I:270 Test-Acc:0.8686 Train-Acc:0.944\n",
            "I:280 Test-Acc:0.8695 Train-Acc:0.954\n",
            "I:290 Test-Acc:0.8695 Train-Acc:0.945"
          ]
        }
      ]
    },
    {
      "cell_type": "code",
      "source": [
        ""
      ],
      "metadata": {
        "id": "Zi2QfGT4kmQO"
      },
      "execution_count": null,
      "outputs": []
    }
  ]
}